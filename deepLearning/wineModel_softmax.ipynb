{
 "cells": [
  {
   "cell_type": "markdown",
   "metadata": {},
   "source": [
    "http://machinelearninguru.com/deep_learning/data_preparation/hdf5/hdf5.html"
   ]
  },
  {
   "cell_type": "code",
   "execution_count": 1,
   "metadata": {
    "scrolled": false
   },
   "outputs": [
    {
     "name": "stderr",
     "output_type": "stream",
     "text": [
      "C:\\ProgramData\\Anaconda3\\envs\\deeplearning\\lib\\site-packages\\h5py\\__init__.py:36: FutureWarning: Conversion of the second argument of issubdtype from `float` to `np.floating` is deprecated. In future, it will be treated as `np.float64 == np.dtype(float).type`.\n",
      "  from ._conv import register_converters as _register_converters\n",
      "Using TensorFlow backend.\n"
     ]
    }
   ],
   "source": [
    "from kt_utils import prep_data, create_dataset, load_dataset\n",
    "\n",
    "# to rename images\n",
    "import os\n",
    "import PIL\n",
    "import matplotlib.pyplot as plt\n",
    "from matplotlib.pyplot import imshow\n",
    "import numpy as np\n",
    "from keras.models import load_model\n",
    "import cv2\n",
    "\n",
    "from keras import layers\n",
    "from keras.layers import Input, Dense, Activation, ZeroPadding2D, BatchNormalization, Flatten, Conv2D\n",
    "from keras.layers import AveragePooling2D, MaxPooling2D, Dropout, GlobalMaxPooling2D, GlobalAveragePooling2D\n",
    "from keras.models import Model\n",
    "from keras.optimizers import SGD, Adam\n",
    "from keras.preprocessing import image\n",
    "from keras.utils import layer_utils\n",
    "from keras.utils.data_utils import get_file\n",
    "from keras.applications.imagenet_utils import preprocess_input\n",
    "# import pydot\n",
    "# from IPython.display import SVG\n",
    "# from keras.utils.vis_utils import model_to_dot\n",
    "from keras.utils import plot_model\n",
    "\n",
    "import keras.backend as K\n",
    "K.set_image_data_format('channels_last')\n",
    "\n",
    "%matplotlib inline"
   ]
  },
  {
   "cell_type": "markdown",
   "metadata": {},
   "source": [
    "### rename all files in folder with a name that indicates, which class each file belongs to. Nicht wirklich mehr notwendig, da unsere App die Fotos direkt mit 0 bzw. 1"
   ]
  },
  {
   "cell_type": "code",
   "execution_count": null,
   "metadata": {
    "collapsed": true
   },
   "outputs": [],
   "source": [
    "def rename(path, label, i = 1):\n",
    "    '''\n",
    "    benennt die Fotos im Ordner um\n",
    "    Argumente:\n",
    "        path: Pfad zum Order, in dem die umzubenennenden Fotos liegen\n",
    "        label: 'pos' oder 'neg', je nachdem, wie die Fotos umbenannt werden sollen\n",
    "        i: Laufvariable zur Benennung der Fotos, kann angepasst werden, falls man einem Datenset Fotos hinzufügen\n",
    "            möchte (dann i = \"höchster Wert\" +1)\n",
    "    '''\n",
    "    files = os.listdir(path)\n",
    "    if label == 'pos':\n",
    "        for file in files:\n",
    "            os.rename(os.path.join(path, file), os.path.join(path + 'pos.' + str(i)+'.png'))\n",
    "            i = i+1\n",
    "    if label == 'neg':    \n",
    "        for file in files:\n",
    "            os.rename(os.path.join(path, file), os.path.join(path + 'neg.' + str(i)+'.png'))\n",
    "            i = i+1\n",
    "            \n",
    "    print ('das nächste Bild würde Nummer ' + str(i) + ' sein')"
   ]
  },
  {
   "cell_type": "code",
   "execution_count": null,
   "metadata": {
    "collapsed": true
   },
   "outputs": [],
   "source": [
    "pos_path = 'C:/Users/JansPC/Desktop/test/pos/secBatch/'\n",
    "neg_path = 'C:/Users/JansPC/Desktop/test/neg/'\n",
    "\n",
    "#rename(pos_path, label = 'pos')\n",
    "#rename(neg_path, label = 'neg')"
   ]
  },
  {
   "cell_type": "markdown",
   "metadata": {},
   "source": [
    "### create HDF with empty arrays and labels in preparation for loading the images into it"
   ]
  },
  {
   "cell_type": "code",
   "execution_count": 2,
   "metadata": {
    "collapsed": true
   },
   "outputs": [],
   "source": [
    "input_path = 'C:/Users/JansPC/Desktop/test/train/*.png'\n",
    "#input_path = 'C:/Users/JansPC/Dropbox/9. Semester/Weinseminar/Coursera/wineModel/datasets/train/*.jpg'\n",
    "# Anteile von train/val/test-set hier angeben. Derzeit wird allerdings nur Train/Test-set genutzt, der Wert von \n",
    "# val_set hat keine Auswirkung\n",
    "dataSplit = {\n",
    "    'train_split': 0.8,\n",
    "    'val_split': 0,\n",
    "    'test_split': 0.2\n",
    "}\n",
    "\n",
    "train_addrs, train_labels, test_addrs, test_labels = prep_data(input_path, dataSplit, shuffle_data = True)"
   ]
  },
  {
   "cell_type": "code",
   "execution_count": 3,
   "metadata": {
    "collapsed": true
   },
   "outputs": [],
   "source": [
    "output_train_path = 'C:/Users/JansPC/Dropbox/9. Semester/Weinseminar/Coursera/wineModel/datasets/train_dataset.hdf5'\n",
    "output_test_path = 'C:/Users/JansPC/Dropbox/9. Semester/Weinseminar/Coursera/wineModel/datasets/test_dataset.hdf5'\n",
    "\n",
    "pixel = 112\n",
    "hdf5_train_file, hdf5_test_file = create_dataset(train_addrs, train_labels, test_addrs, test_labels, output_train_path, output_test_path, px = pixel, data_order = 'tf')"
   ]
  },
  {
   "cell_type": "markdown",
   "metadata": {},
   "source": [
    "### Load images and save them in prepared dataset"
   ]
  },
  {
   "cell_type": "code",
   "execution_count": 4,
   "metadata": {},
   "outputs": [
    {
     "name": "stdout",
     "output_type": "stream",
     "text": [
      "Train data: 1000/1019\n"
     ]
    }
   ],
   "source": [
    "# a numpy array to save the mean of the images\n",
    "#mean = np.zeros(train_shape[1:], np.float32)\n",
    "\n",
    "# loop over train addresses\n",
    "for i in range(len(train_addrs)):\n",
    "    # print how many images are saved every 1000 images\n",
    "    if i % 1000 == 0 and i > 1:\n",
    "        print ('Train data: {}/{}'.format(i, len(train_addrs)))\n",
    "\n",
    "    # read an image and resize to (128, 128)\n",
    "    # cv2 load images as BGR, convert it to RGB\n",
    "    addr = train_addrs[i]\n",
    "    img = cv2.imread(addr)\n",
    "    img = cv2.resize(img, (pixel, pixel), interpolation=cv2.INTER_CUBIC)\n",
    "    #img = cv2.cvtColor(img, cv2.COLOR_BGR2RGB)\n",
    "\n",
    "    # add any image pre-processing here\n",
    "\n",
    "    # if the data order is Theano, axis orders should change\n",
    "    #if data_order == 'th':\n",
    "    #    img = np.rollaxis(img, 2)\n",
    "\n",
    "    # save the image and calculate the mean so far\n",
    "    hdf5_train_file[\"train_set_x\"][i, ...] = img[None]\n",
    "    #mean += img / float(len(train_labels))\n",
    "'''\n",
    "# loop1 over validation addresses\n",
    "for i in range(len(val_addrs)):\n",
    "    # print how many images are saved every 1000 images\n",
    "    if i % 1000 == 0 and i > 1:\n",
    "        print 'Validation data: {}/{}'.format(i, len(val_addrs))\n",
    "\n",
    "    # read an image and resize to (pixel, pixel)\n",
    "    # cv2 load images as BGR, convert it to RGB\n",
    "    addr = val_addrs[i]\n",
    "    img = cv2.imread(addr)\n",
    "    img = cv2.resize(img, (pixel, pixel), interpolation=cv2.INTER_CUBIC)\n",
    "    img = cv2.cvtColor(img, cv2.COLOR_BGR2RGB)\n",
    "\n",
    "    # add any image pre-processing here\n",
    "\n",
    "    # if the data order is Theano, axis orders should change\n",
    "    if data_order == 'th':\n",
    "        img = np.rollaxis(img, 2)\n",
    "\n",
    "    # save the image\n",
    "    hdf5_file[\"val_img\"][i, ...] = img[None]\n",
    "'''\n",
    "# save the mean and close the hdf5 file\n",
    "#hdf5_file[\"train_mean\"][...] = mean\n",
    "hdf5_train_file.close()"
   ]
  },
  {
   "cell_type": "code",
   "execution_count": 5,
   "metadata": {
    "collapsed": true
   },
   "outputs": [],
   "source": [
    "# loop over test addresses\n",
    "for i in range(len(test_addrs)):\n",
    "    # print how many images are saved every 1000 images\n",
    "    if i % 1000 == 0 and i > 1:\n",
    "        print ('Test data: {}/{}'.format(i, len(test_addrs)))\n",
    "\n",
    "    # read an image and resize to (128, 128)\n",
    "    # cv2 load images as BGR, convert it to RGB\n",
    "    addr = test_addrs[i]\n",
    "    img = cv2.imread(addr)\n",
    "    img = cv2.resize(img, (pixel, pixel), interpolation=cv2.INTER_CUBIC)\n",
    "    #img = cv2.cvtColor(img, cv2.COLOR_BGR2RGB)\n",
    "\n",
    "    # add any image pre-processing here\n",
    "\n",
    "    # if the data order is Theano, axis orders should change\n",
    "    #if data_order == 'th':\n",
    "    #    img = np.rollaxis(img, 2)\n",
    "\n",
    "    # save the image\n",
    "    hdf5_test_file[\"test_set_x\"][i, ...] = img[None]\n",
    "\n",
    "# save the mean and close the hdf5 file\n",
    "#hdf5_file[\"train_mean\"][...] = mean\n",
    "hdf5_test_file.close()"
   ]
  },
  {
   "cell_type": "code",
   "execution_count": 6,
   "metadata": {},
   "outputs": [
    {
     "name": "stdout",
     "output_type": "stream",
     "text": [
      "number of training examples = 1019\n",
      "number of test examples = 255\n",
      "X_train shape: (1019, 112, 112, 3)\n",
      "Y_train shape: (1019, 2)\n",
      "X_test shape: (255, 112, 112, 3)\n",
      "Y_test shape: (255, 2)\n"
     ]
    }
   ],
   "source": [
    "X_train_orig, Y_train_orig, X_test_orig, Y_test_orig = load_dataset()\n",
    "\n",
    "# Normalize image vectors\n",
    "X_train = X_train_orig/255.\n",
    "X_test = X_test_orig/255.\n",
    "\n",
    "# Reshape\n",
    "Y_train = Y_train_orig.T\n",
    "Y_test = Y_test_orig.T\n",
    "\n",
    "print (\"number of training examples = \" + str(X_train.shape[0]))\n",
    "print (\"number of test examples = \" + str(X_test.shape[0]))\n",
    "print (\"X_train shape: \" + str(X_train.shape))\n",
    "print (\"Y_train shape: \" + str(Y_train.shape))\n",
    "print (\"X_test shape: \" + str(X_test.shape))\n",
    "print (\"Y_test shape: \" + str(Y_test.shape))\n",
    "#print (\"classes: \" + str(classes))"
   ]
  },
  {
   "cell_type": "code",
   "execution_count": 7,
   "metadata": {},
   "outputs": [
    {
     "name": "stdout",
     "output_type": "stream",
     "text": [
      "y = [0 0]\n"
     ]
    },
    {
     "data": {
      "image/png": "[encoded data removed]",
      "text/plain": [
       "<matplotlib.figure.Figure at 0x1e6fe5b3d68>"
      ]
     },
     "metadata": {},
     "output_type": "display_data"
    }
   ],
   "source": [
    "# Example of a picture\n",
    "index = 234\n",
    "plt.imshow(cv2.cvtColor(X_train_orig[index], cv2.COLOR_BGR2RGB))\n",
    "print (\"y = \" + str(np.squeeze(Y_train_orig[:, index])))"
   ]
  },
  {
   "cell_type": "markdown",
   "metadata": {},
   "source": [
    "### create Keras model"
   ]
  },
  {
   "cell_type": "code",
   "execution_count": 30,
   "metadata": {
    "collapsed": true
   },
   "outputs": [],
   "source": [
    "def wineModel(input_shape):\n",
    "    \"\"\"\n",
    "    Implementation of the wineModel.\n",
    "    \n",
    "    Arguments:\n",
    "    input_shape -- shape of the images of the dataset\n",
    "\n",
    "    Returns:\n",
    "    model -- a Model() instance in Keras\n",
    "    \"\"\"\n",
    "    \n",
    "    # Define the input placeholder as a tensor with shape input_shape. Think of this as your input image!\n",
    "    X_input = Input(input_shape)\n",
    "\n",
    "    # Zero-Padding: pads the border of X_input with zeroes\n",
    "    X = ZeroPadding2D((3, 3))(X_input)\n",
    "    \n",
    "    # CONV -> BN -> RELU Block applied to X\n",
    "    X = Conv2D(24, (5, 5), strides = (1, 1), name = 'conv0')(X)\n",
    "    X = BatchNormalization(axis = 3, name = 'bn0')(X)    \n",
    "    X = Activation('relu')(X)\n",
    "    X = Dropout(0.2)(X)\n",
    "    \n",
    "    X = MaxPooling2D((2, 2), name='max_pool')(X)    \n",
    "\n",
    "    \n",
    "    # second layer added by me\n",
    "    X = Conv2D(32, (3, 3), strides = (1, 1), name = 'conv1')(X)\n",
    "    X = BatchNormalization(axis = 3, name = 'bn1')(X)\n",
    "    X = Activation('relu')(X)\n",
    "    X = Dropout(0.2)(X)\n",
    "    \n",
    "    # MAXPOOL\n",
    "    X = MaxPooling2D((2, 2), name='max_pool1')(X)\n",
    "    \n",
    "#     X = Conv2D(64, (3, 3), strides = (1, 1), name = 'conv2')(X)\n",
    "#     X = BatchNormalization(axis = 3, name = 'bn2')(X)\n",
    "#     X = Activation('relu')(X)\n",
    "#     X = Dropout(0.2)(X)\n",
    "    \n",
    "    # MAXPOOL\n",
    "    #X = MaxPooling2D((2, 2), name='max_pool2')(X)\n",
    "\n",
    "    # FLATTEN X (means convert it to a vector) + FULLYCONNECTED\n",
    "    X = Flatten()(X)\n",
    "    #X = Dense(1, activation='sigmoid', name='fc')(X)\n",
    "    X = Dense(2, activation='softmax', name = 'fc')(X)\n",
    "    #X = Activation('relu')(X)\n",
    "    \n",
    "    #X = Dense(1, activation='sigmoid', name='fc3')(X)\n",
    "\n",
    "    # Create model. This creates your Keras model instance, you'll use this instance to train/test the model.\n",
    "    model = Model(inputs = X_input, outputs = X, name='WineModel')\n",
    "    \n",
    "    return model"
   ]
  },
  {
   "cell_type": "code",
   "execution_count": 31,
   "metadata": {
    "collapsed": true
   },
   "outputs": [],
   "source": [
    "# input_shape must be same as pixel \n",
    "model = wineModel(input_shape = (112,112,3,))"
   ]
  },
  {
   "cell_type": "markdown",
   "metadata": {},
   "source": [
    "### compile the model"
   ]
  },
  {
   "cell_type": "code",
   "execution_count": 37,
   "metadata": {
    "collapsed": true
   },
   "outputs": [],
   "source": [
    "# defaults for SGD: (lr=0.01, momentum=0.0, decay=0.0, nesterov=False)\n",
    "# defaults for Adam (from original paper): (lr=0.001, beta_1=0.9, beta_2=0.999, epsilon=None, decay=0.0, amsgrad=False) \n",
    "# metrics: mse, accuracy,...\n",
    "# loss: categorical_crossentropy, binary_crossentropy\n",
    "sgd = SGD(lr=0.001, momentum=0.2, decay=0.0, nesterov=False)\n",
    "adam = Adam(lr=0.001)\n",
    "model.compile(optimizer = adam, loss = \"categorical_crossentropy\", metrics = [\"categorical_accuracy\"])"
   ]
  },
  {
   "cell_type": "markdown",
   "metadata": {},
   "source": [
    "### fit the model (training process)"
   ]
  },
  {
   "cell_type": "code",
   "execution_count": 38,
   "metadata": {},
   "outputs": [
    {
     "name": "stdout",
     "output_type": "stream",
     "text": [
      "Epoch 1/15\n",
      "1019/1019 [==============================] - 84s 82ms/step - loss: 0.7187 - categorical_accuracy: 0.6909\n",
      "Epoch 2/15\n",
      "1019/1019 [==============================] - 73s 72ms/step - loss: 0.6392 - categorical_accuracy: 0.7164\n",
      "Epoch 3/15\n",
      "1019/1019 [==============================] - 81s 80ms/step - loss: 0.5986 - categorical_accuracy: 0.7242\n",
      "Epoch 4/15\n",
      "1019/1019 [==============================] - 80s 79ms/step - loss: 0.5384 - categorical_accuracy: 0.7498\n",
      "Epoch 5/15\n",
      "1019/1019 [==============================] - 74s 72ms/step - loss: 0.5387 - categorical_accuracy: 0.7341\n",
      "Epoch 6/15\n",
      "1019/1019 [==============================] - 75s 74ms/step - loss: 0.5157 - categorical_accuracy: 0.7399\n",
      "Epoch 7/15\n",
      "1019/1019 [==============================] - 80s 78ms/step - loss: 0.5338 - categorical_accuracy: 0.7419\n",
      "Epoch 8/15\n",
      "1019/1019 [==============================] - 80s 78ms/step - loss: 0.5044 - categorical_accuracy: 0.7439\n",
      "Epoch 9/15\n",
      "1019/1019 [==============================] - 79s 77ms/step - loss: 0.5247 - categorical_accuracy: 0.7704\n",
      "Epoch 10/15\n",
      "1019/1019 [==============================] - 82s 81ms/step - loss: 0.5516 - categorical_accuracy: 0.7409\n",
      "Epoch 11/15\n",
      "1019/1019 [==============================] - 84s 82ms/step - loss: 0.4925 - categorical_accuracy: 0.7537\n",
      "Epoch 12/15\n",
      "1019/1019 [==============================] - 76s 74ms/step - loss: 0.4617 - categorical_accuracy: 0.7635\n",
      "Epoch 13/15\n",
      "1019/1019 [==============================] - 78s 77ms/step - loss: 0.4379 - categorical_accuracy: 0.7498\n",
      "Epoch 14/15\n",
      "1019/1019 [==============================] - 71s 70ms/step - loss: 0.4329 - categorical_accuracy: 0.7596\n",
      "Epoch 15/15\n",
      "1019/1019 [==============================] - 83s 82ms/step - loss: 0.4369 - categorical_accuracy: 0.7488\n"
     ]
    }
   ],
   "source": [
    "# model.fit(x = ..., y = ..., epochs = ..., batch_size = ...)\n",
    "history = model.fit(x= X_train, y = Y_train, epochs = 15, batch_size = 16)"
   ]
  },
  {
   "cell_type": "code",
   "execution_count": 39,
   "metadata": {
    "scrolled": false
   },
   "outputs": [
    {
     "name": "stdout",
     "output_type": "stream",
     "text": [
      "dict_keys(['loss', 'categorical_accuracy'])\n"
     ]
    }
   ],
   "source": [
    "print (history.history.keys())"
   ]
  },
  {
   "cell_type": "code",
   "execution_count": 40,
   "metadata": {},
   "outputs": [
    {
     "data": {
      "image/png": "[encoded data removed]",
      "text/plain": [
       "<matplotlib.figure.Figure at 0x1e682150cc0>"
      ]
     },
     "metadata": {},
     "output_type": "display_data"
    }
   ],
   "source": [
    "# summarize history for accuracy\n",
    "plt.plot(history.history['categorical_accuracy'])\n",
    "plt.title('model accuracy for base model')\n",
    "plt.ylabel('acuracy')\n",
    "plt.xlabel('epoch')\n",
    "plt.show()\n",
    "# plt.savefig('learning_process_accuracy')"
   ]
  },
  {
   "cell_type": "code",
   "execution_count": 41,
   "metadata": {},
   "outputs": [
    {
     "data": {
      "image/png": "[encoded data removed]",
      "text/plain": [
       "<matplotlib.figure.Figure at 0x1e6a05315f8>"
      ]
     },
     "metadata": {},
     "output_type": "display_data"
    }
   ],
   "source": [
    "# summarize history for loss\n",
    "plt.plot(history.history['loss'])\n",
    "plt.title('model loss for base model')\n",
    "plt.ylabel('loss')\n",
    "plt.xlabel('epoch')\n",
    "plt.show()\n",
    "# plt.savefig('learning_process_loss')"
   ]
  },
  {
   "cell_type": "markdown",
   "metadata": {},
   "source": [
    "### Test the model on the testSet"
   ]
  },
  {
   "cell_type": "code",
   "execution_count": 21,
   "metadata": {
    "scrolled": true
   },
   "outputs": [
    {
     "name": "stdout",
     "output_type": "stream",
     "text": [
      "255/255 [==============================] - 7s 26ms/step\n",
      "\n",
      "Loss = 1.177066637020485\n",
      "Test Accuracy = 0.3960784297363431\n"
     ]
    }
   ],
   "source": [
    "#model.evaluate(x = ..., y = ...)\n",
    "preds = model.evaluate(x = X_test, y = Y_test)\n",
    "\n",
    "print()\n",
    "print (\"Loss = \" + str(preds[0]))\n",
    "print (\"Test Accuracy = \" + str(preds[1]))"
   ]
  },
  {
   "cell_type": "code",
   "execution_count": 42,
   "metadata": {
    "collapsed": true
   },
   "outputs": [],
   "source": [
    "# creates a HDF5 file with model parameters for later use\n",
    "model.save('softmax_model.h5')  "
   ]
  },
  {
   "cell_type": "markdown",
   "metadata": {},
   "source": [
    "### plot training process\n",
    "http://www.codesofinterest.com/2017/03/graph-model-training-history-keras.html"
   ]
  },
  {
   "cell_type": "code",
   "execution_count": 22,
   "metadata": {},
   "outputs": [
    {
     "name": "stdout",
     "output_type": "stream",
     "text": [
      "_________________________________________________________________\n",
      "Layer (type)                 Output Shape              Param #   \n",
      "=================================================================\n",
      "input_3 (InputLayer)         (None, 112, 112, 3)       0         \n",
      "_________________________________________________________________\n",
      "zero_padding2d_1 (ZeroPaddin (None, 118, 118, 3)       0         \n",
      "_________________________________________________________________\n",
      "conv0 (Conv2D)               (None, 114, 114, 24)      1824      \n",
      "_________________________________________________________________\n",
      "bn0 (BatchNormalization)     (None, 114, 114, 24)      96        \n",
      "_________________________________________________________________\n",
      "activation_1 (Activation)    (None, 114, 114, 24)      0         \n",
      "_________________________________________________________________\n",
      "dropout_1 (Dropout)          (None, 114, 114, 24)      0         \n",
      "_________________________________________________________________\n",
      "max_pool (MaxPooling2D)      (None, 57, 57, 24)        0         \n",
      "_________________________________________________________________\n",
      "conv1 (Conv2D)               (None, 55, 55, 32)        6944      \n",
      "_________________________________________________________________\n",
      "bn1 (BatchNormalization)     (None, 55, 55, 32)        128       \n",
      "_________________________________________________________________\n",
      "activation_2 (Activation)    (None, 55, 55, 32)        0         \n",
      "_________________________________________________________________\n",
      "dropout_2 (Dropout)          (None, 55, 55, 32)        0         \n",
      "_________________________________________________________________\n",
      "max_pool1 (MaxPooling2D)     (None, 27, 27, 32)        0         \n",
      "_________________________________________________________________\n",
      "flatten_1 (Flatten)          (None, 23328)             0         \n",
      "_________________________________________________________________\n",
      "fc (Dense)                   (None, 2)                 46658     \n",
      "=================================================================\n",
      "Total params: 55,650\n",
      "Trainable params: 55,538\n",
      "Non-trainable params: 112\n",
      "_________________________________________________________________\n"
     ]
    }
   ],
   "source": [
    "model.summary()"
   ]
  },
  {
   "cell_type": "markdown",
   "metadata": {},
   "source": [
    "### predict class of  image that the algorithm has never seen before\n",
    "ich habe mal 10 neue Fotos erstellt, das Modell kann sie alle korrekt klassifizieren."
   ]
  },
  {
   "cell_type": "code",
   "execution_count": null,
   "metadata": {
    "collapsed": true
   },
   "outputs": [],
   "source": [
    "# returns a compiled model\n",
    "model = load_model('best_wineModel_1119_255_2Layer.h5')"
   ]
  },
  {
   "cell_type": "code",
   "execution_count": null,
   "metadata": {
    "collapsed": true,
    "scrolled": false
   },
   "outputs": [],
   "source": [
    "#img_path = 'C:/Users/JansPC/Dropbox/9. Semester/Weinseminar/Coursera/wineModel/datasets/test1/1019.jpg'\n",
    "pics = [1, 2, 3, 4, 5, 6, 7, 9, 10]\n",
    "\n",
    "for pic in pics:\n",
    "    fig=plt.figure(figsize=(20,5))\n",
    "\n",
    "    #Create one or more subplots using add_subplot, because you can't create blank figure\n",
    "    fig.add_subplot(222)\n",
    "    img_path = 'C:/Users/JansPC/Desktop/test/test/Untitled ' + str(pic) + '.png'\n",
    "    img = image.load_img(img_path, target_size=(112, 112))\n",
    "    x = image.img_to_array(img)\n",
    "    x = np.expand_dims(x, axis=0)\n",
    "    x = preprocess_input(x)\n",
    "    print (x.shape)\n",
    "    #plt.show()\n",
    "    print(model.predict(x))\n",
    "    imshow(img)\n",
    "    \n",
    "    \n",
    "#with cv2\n"
   ]
  }
 ],
 "metadata": {
  "kernelspec": {
   "display_name": "Python 3",
   "language": "python",
   "name": "python3"
  },
  "language_info": {
   "codemirror_mode": {
    "name": "ipython",
    "version": 3
   },
   "file_extension": ".py",
   "mimetype": "text/x-python",
   "name": "python",
   "nbconvert_exporter": "python",
   "pygments_lexer": "ipython3",
   "version": "3.5.4"
  }
 },
 "nbformat": 4,
 "nbformat_minor": 2
}
