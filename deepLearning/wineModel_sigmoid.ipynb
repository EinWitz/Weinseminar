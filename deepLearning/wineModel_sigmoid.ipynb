{
 "cells": [
  {
   "cell_type": "markdown",
   "metadata": {},
   "source": [
    "http://machinelearninguru.com/deep_learning/data_preparation/hdf5/hdf5.html"
   ]
  },
  {
   "cell_type": "code",
   "execution_count": 11,
   "metadata": {
    "scrolled": false
   },
   "outputs": [],
   "source": [
    "from cnn_utils import load_dataset\n",
    "\n",
    "import matplotlib.pyplot as plt\n",
    "from matplotlib.pyplot import imshow\n",
    "import numpy as np\n",
    "import cv2\n",
    "from random import randint\n",
    "\n",
    "from keras.models import load_model\n",
    "from keras import layers\n",
    "from keras.layers import Input, Dense, Activation, ZeroPadding2D, BatchNormalization, Flatten, Conv2D\n",
    "from keras.layers import AveragePooling2D, MaxPooling2D, Dropout, GlobalMaxPooling2D, GlobalAveragePooling2D\n",
    "from keras.models import Model\n",
    "from keras.optimizers import SGD, Adam\n",
    "from keras.preprocessing import image\n",
    "from keras.utils import layer_utils\n",
    "from keras.utils.data_utils import get_file\n",
    "from keras.applications.imagenet_utils import preprocess_input\n",
    "from keras.callbacks import TensorBoard\n",
    "# import pydot\n",
    "# from IPython.display import SVG\n",
    "# from keras.utils.vis_utils import model_to_dot\n",
    "from keras.utils import plot_model\n",
    "import keras.backend as K\n",
    "\n",
    "K.set_image_data_format('channels_last')\n",
    "\n",
    "%matplotlib inline"
   ]
  },
  {
   "cell_type": "markdown",
   "metadata": {},
   "source": [
    "### Load dataset"
   ]
  },
  {
   "cell_type": "code",
   "execution_count": 7,
   "metadata": {
    "scrolled": true
   },
   "outputs": [
    {
     "name": "stdout",
     "output_type": "stream",
     "text": [
      "number of training examples = 1146\n",
      "number of test examples = 128\n",
      "X_train shape: (1146, 112, 112, 3)\n",
      "Y_train shape: (1146, 1)\n",
      "X_test shape: (128, 112, 112, 3)\n",
      "Y_test shape: (128, 1)\n"
     ]
    }
   ],
   "source": [
    "X_train_orig, Y_train_orig, X_test_orig, Y_test_orig = load_dataset('train_wenig.hdf5', 'test_wenig.hdf5')\n",
    "\n",
    "# Normalize image vectors\n",
    "X_train = X_train_orig/255.\n",
    "X_test = X_test_orig/255.\n",
    "\n",
    "# Reshape\n",
    "Y_train = Y_train_orig.T\n",
    "Y_test = Y_test_orig.T\n",
    "\n",
    "print (\"number of training examples = \" + str(X_train.shape[0]))\n",
    "print (\"number of test examples = \" + str(X_test.shape[0]))\n",
    "print (\"X_train shape: \" + str(X_train.shape))\n",
    "print (\"Y_train shape: \" + str(Y_train.shape))\n",
    "print (\"X_test shape: \" + str(X_test.shape))\n",
    "print (\"Y_test shape: \" + str(Y_test.shape))\n",
    "#print (\"classes: \" + str(classes))"
   ]
  },
  {
   "cell_type": "code",
   "execution_count": 8,
   "metadata": {},
   "outputs": [
    {
     "ename": "error",
     "evalue": "..\\..\\..\\modules\\imgproc\\src\\color.cpp:7935: error: (-215) depth == CV_8U || depth == CV_16U || depth == CV_32F in function cv::cvtColor\n",
     "output_type": "error",
     "traceback": [
      "\u001b[1;31m---------------------------------------------------------------------------\u001b[0m",
      "\u001b[1;31merror\u001b[0m                                     Traceback (most recent call last)",
      "\u001b[1;32m<ipython-input-8-13df0483db59>\u001b[0m in \u001b[0;36m<module>\u001b[1;34m()\u001b[0m\n\u001b[0;32m      1\u001b[0m \u001b[1;31m# Example of a picture\u001b[0m\u001b[1;33m\u001b[0m\u001b[1;33m\u001b[0m\u001b[0m\n\u001b[0;32m      2\u001b[0m \u001b[0mindex\u001b[0m \u001b[1;33m=\u001b[0m \u001b[0mrandint\u001b[0m\u001b[1;33m(\u001b[0m\u001b[1;36m1\u001b[0m\u001b[1;33m,\u001b[0m \u001b[0mX_train\u001b[0m\u001b[1;33m.\u001b[0m\u001b[0mshape\u001b[0m\u001b[1;33m[\u001b[0m\u001b[1;36m0\u001b[0m\u001b[1;33m]\u001b[0m\u001b[1;33m)\u001b[0m\u001b[1;33m\u001b[0m\u001b[0m\n\u001b[1;32m----> 3\u001b[1;33m \u001b[0mplt\u001b[0m\u001b[1;33m.\u001b[0m\u001b[0mimshow\u001b[0m\u001b[1;33m(\u001b[0m\u001b[0mcv2\u001b[0m\u001b[1;33m.\u001b[0m\u001b[0mcvtColor\u001b[0m\u001b[1;33m(\u001b[0m\u001b[0mX_train\u001b[0m\u001b[1;33m[\u001b[0m\u001b[0mindex\u001b[0m\u001b[1;33m]\u001b[0m\u001b[1;33m,\u001b[0m \u001b[0mcv2\u001b[0m\u001b[1;33m.\u001b[0m\u001b[0mCOLOR_BGR2RGB\u001b[0m\u001b[1;33m)\u001b[0m\u001b[1;33m)\u001b[0m\u001b[1;33m\u001b[0m\u001b[0m\n\u001b[0m\u001b[0;32m      4\u001b[0m \u001b[0mprint\u001b[0m \u001b[1;33m(\u001b[0m\u001b[1;34m\"y = \"\u001b[0m \u001b[1;33m+\u001b[0m \u001b[0mstr\u001b[0m\u001b[1;33m(\u001b[0m\u001b[0mnp\u001b[0m\u001b[1;33m.\u001b[0m\u001b[0msqueeze\u001b[0m\u001b[1;33m(\u001b[0m\u001b[0mY_test\u001b[0m\u001b[1;33m[\u001b[0m\u001b[1;33m:\u001b[0m\u001b[1;33m,\u001b[0m \u001b[0mindex\u001b[0m\u001b[1;33m]\u001b[0m\u001b[1;33m)\u001b[0m\u001b[1;33m)\u001b[0m\u001b[1;33m)\u001b[0m\u001b[1;33m\u001b[0m\u001b[0m\n",
      "\u001b[1;31merror\u001b[0m: ..\\..\\..\\modules\\imgproc\\src\\color.cpp:7935: error: (-215) depth == CV_8U || depth == CV_16U || depth == CV_32F in function cv::cvtColor\n"
     ]
    }
   ],
   "source": [
    "# Example of a picture\n",
    "index = randint(1, X_train.shape[0])\n",
    "plt.imshow(cv2.cvtColor(X_train[index], cv2.COLOR_BGR2RGB))\n",
    "print (\"y = \" + str(np.squeeze(Y_test[:, index])))"
   ]
  },
  {
   "cell_type": "markdown",
   "metadata": {},
   "source": [
    "### create Keras model"
   ]
  },
  {
   "cell_type": "code",
   "execution_count": null,
   "metadata": {
    "collapsed": true
   },
   "outputs": [],
   "source": [
    "def test_wineModel(input_shape):\n",
    "    \"\"\"\n",
    "    Implementation of the wineModel.\n",
    "    \n",
    "    Arguments:\n",
    "        input_shape -- shape of the images of the dataset\n",
    "\n",
    "    Returns:\n",
    "        model -- a Model() instance in Keras\n",
    "    \"\"\"\n",
    "    \n",
    "    # Define the input placeholder as a tensor with shape input_shape\n",
    "    X_input = Input(input_shape)\n",
    "\n",
    "    # Zero-Padding\n",
    "#     X = ZeroPadding2D((3, 3))(X_input)\n",
    "    \n",
    "    # CONV -> BN -> RELU Block applied to X\n",
    "    X = Conv2D(20, (11, 11), strides = (4, 4), name = 'conv1')(X_input)\n",
    "    X = BatchNormalization(axis = 3, name = 'bn1')(X)    \n",
    "    X = Activation('relu')(X)\n",
    "    # Dropout Layer\n",
    "#     X = Dropout(0.2)(X)\n",
    "    \n",
    "    # MaxPool\n",
    "    X = MaxPooling2D((3, 3), strides=(2,2), name='max_pool1')(X)    \n",
    "    \n",
    "    # second layer\n",
    "    X = Conv2D(50, (5, 5), strides = (1, 1), name = 'conv2')(X)\n",
    "    X = BatchNormalization(axis = 3, name = 'bn2')(X)\n",
    "    X = Activation('relu')(X)\n",
    "#     X = Dropout(0.2)(X)\n",
    "    \n",
    "    # MaxPool\n",
    "    X = MaxPooling2D((3, 3), strides=(2,2), name='max_pool2')(X) \n",
    "    \n",
    "    # third layer\n",
    "#     X = Conv2D(64, (3, 3), strides = (1, 1), name = 'conv2')(X)\n",
    "#     X = BatchNormalization(axis = 3, name = 'bn2')(X)\n",
    "#     X = Activation('relu')(X)\n",
    "#     X = Dropout(0.2)(X)\n",
    "    \n",
    "    # MAXPOOL\n",
    "#     X = MaxPooling2D((2, 2), name='max_pool2')(X)\n",
    "\n",
    "    # FLATTEN X\n",
    "    X = Flatten()(X)\n",
    "    \n",
    "    # Fully Connected layer\n",
    "    X = Dense(2048, activation='relu', name='fc1')(X)\n",
    "    \n",
    "    # Fully Connected layer    \n",
    "    X = Dense(2048, activation='relu', name='fc2')(X)\n",
    "    \n",
    "    # Fully connected output layer\n",
    "    X = Dense(1, activation='sigmoid', name='fc3')(X)\n",
    "\n",
    "    # Create model. This creates your Keras model instance, you'll use this instance to train/test the model.\n",
    "    model = Model(inputs = X_input, outputs = X, name='WineModel')\n",
    "    \n",
    "    return model"
   ]
  },
  {
   "cell_type": "code",
   "execution_count": 18,
   "metadata": {
    "collapsed": true
   },
   "outputs": [],
   "source": [
    "def wineModel(input_shape):\n",
    "    \"\"\"\n",
    "    Implementation of the wineModel.\n",
    "    \n",
    "    Arguments:\n",
    "        input_shape -- shape of the images of the dataset\n",
    "\n",
    "    Returns:\n",
    "        model -- a Model() instance in Keras\n",
    "    \"\"\"  \n",
    "    X_input = Input(input_shape)\n",
    "\n",
    "    X = Conv2D(20, (11, 11), strides = (4, 4), name = 'conv1')(X_input)\n",
    "    X = BatchNormalization(axis = 3, name = 'bn1')(X)    \n",
    "    X = Activation('relu')(X)\n",
    "    X = Dropout(0.2)(X)\n",
    "        \n",
    "    X = MaxPooling2D((3, 3), strides=(2,2), name='max_pool1')(X)    \n",
    "\n",
    "    X = Conv2D(50, (5, 5), strides = (1, 1), name = 'conv2')(X)\n",
    "    X = BatchNormalization(axis = 3, name = 'bn2')(X)\n",
    "    X = Activation('relu')(X)\n",
    "    X = Dropout(0.2)(X)\n",
    "    \n",
    "    X = MaxPooling2D((3, 3), strides=(2,2), name='max_pool2')(X) \n",
    "\n",
    "    X = Flatten()(X)\n",
    "\n",
    "    X = Dense(1028, activation='relu', name='fc1')(X)\n",
    "\n",
    "    X = Dense(1, activation='sigmoid', name='fc2')(X)\n",
    "\n",
    "    model = Model(inputs = X_input, outputs = X, name='WineModel')  \n",
    "    return model"
   ]
  },
  {
   "cell_type": "code",
   "execution_count": 23,
   "metadata": {
    "collapsed": true
   },
   "outputs": [],
   "source": [
    "# input_shape must be same as pixel (300x150) \n",
    "model = wineModel(input_shape = (300,150,3,))"
   ]
  },
  {
   "cell_type": "markdown",
   "metadata": {},
   "source": [
    "### compile the model"
   ]
  },
  {
   "cell_type": "code",
   "execution_count": 24,
   "metadata": {
    "collapsed": true
   },
   "outputs": [],
   "source": [
    "# defaults for SGD: (lr=0.01, momentum=0.0, decay=0.0, nesterov=False)\n",
    "# defaults for Adam (from original paper): (lr=0.001, beta_1=0.9, beta_2=0.999, epsilon=None, decay=0.0, amsgrad=False) \n",
    "# metrics: mse, accuracy,...\n",
    "# loss: categorical_crossentropy, binary_crossentropy\n",
    "# sgd = SGD(lr=0.0001, momentum=0.2, decay=0.0, nesterov=False)\n",
    "adam = Adam(lr=0.001)\n",
    "model.compile(optimizer = adam, loss = \"binary_crossentropy\", metrics = [\"accuracy\"])"
   ]
  },
  {
   "cell_type": "markdown",
   "metadata": {},
   "source": [
    "### Set up Tensorboard callbacks"
   ]
  },
  {
   "cell_type": "code",
   "execution_count": 25,
   "metadata": {
    "collapsed": true
   },
   "outputs": [],
   "source": [
    "tensor_logger = TensorBoard(\n",
    "    log_dir='./logs', \n",
    "    histogram_freq=0, \n",
    "    batch_size=32, \n",
    "    write_graph=True, \n",
    "    write_grads=False, \n",
    "    write_images=False, \n",
    "    embeddings_freq=0, \n",
    "    embeddings_layer_names=None, \n",
    "    embeddings_metadata=None)"
   ]
  },
  {
   "cell_type": "markdown",
   "metadata": {},
   "source": [
    "### fit the model (training process)"
   ]
  },
  {
   "cell_type": "code",
   "execution_count": 31,
   "metadata": {},
   "outputs": [
    {
     "name": "stdout",
     "output_type": "stream",
     "text": [
      "Epoch 1/2\n",
      "7601/7601 [==============================] - 211s 28ms/step - loss: 2.1375 - acc: 0.8674\n",
      "Epoch 2/2\n",
      "7601/7601 [==============================] - 212s 28ms/step - loss: 2.1375 - acc: 0.8674\n"
     ]
    }
   ],
   "source": [
    "# model.fit(x = ..., y = ..., epochs = ..., batch_size = ...)\n",
    "history = model.fit(x= X_train, y = Y_train, epochs = 2, batch_size = 32, callbacks=[tensor_logger])"
   ]
  },
  {
   "cell_type": "markdown",
   "metadata": {},
   "source": [
    "## Visualize Results\n",
    "For quick visualization. Tensorboard is way cooler <br>\n",
    "http://www.codesofinterest.com/2017/03/graph-model-training-history-keras.html  <br>\n",
    "tensorboard --logdir=C:\\Users\\JansPC\\AnacondaProjects\\Weinseminar\\wineModel\\logs <br>\n",
    "https://keras.io/callbacks/"
   ]
  },
  {
   "cell_type": "code",
   "execution_count": 27,
   "metadata": {},
   "outputs": [
    {
     "name": "stdout",
     "output_type": "stream",
     "text": [
      "_________________________________________________________________\n",
      "Layer (type)                 Output Shape              Param #   \n",
      "=================================================================\n",
      "input_2 (InputLayer)         (None, 300, 150, 3)       0         \n",
      "_________________________________________________________________\n",
      "conv1 (Conv2D)               (None, 73, 35, 20)        7280      \n",
      "_________________________________________________________________\n",
      "bn1 (BatchNormalization)     (None, 73, 35, 20)        80        \n",
      "_________________________________________________________________\n",
      "activation_3 (Activation)    (None, 73, 35, 20)        0         \n",
      "_________________________________________________________________\n",
      "dropout_3 (Dropout)          (None, 73, 35, 20)        0         \n",
      "_________________________________________________________________\n",
      "max_pool1 (MaxPooling2D)     (None, 36, 17, 20)        0         \n",
      "_________________________________________________________________\n",
      "conv2 (Conv2D)               (None, 32, 13, 50)        25050     \n",
      "_________________________________________________________________\n",
      "bn2 (BatchNormalization)     (None, 32, 13, 50)        200       \n",
      "_________________________________________________________________\n",
      "activation_4 (Activation)    (None, 32, 13, 50)        0         \n",
      "_________________________________________________________________\n",
      "dropout_4 (Dropout)          (None, 32, 13, 50)        0         \n",
      "_________________________________________________________________\n",
      "max_pool2 (MaxPooling2D)     (None, 15, 6, 50)         0         \n",
      "_________________________________________________________________\n",
      "flatten_2 (Flatten)          (None, 4500)              0         \n",
      "_________________________________________________________________\n",
      "fc1 (Dense)                  (None, 1028)              4627028   \n",
      "_________________________________________________________________\n",
      "fc2 (Dense)                  (None, 1)                 1029      \n",
      "=================================================================\n",
      "Total params: 4,660,667\n",
      "Trainable params: 4,660,527\n",
      "Non-trainable params: 140\n",
      "_________________________________________________________________\n"
     ]
    }
   ],
   "source": [
    "model.summary()"
   ]
  },
  {
   "cell_type": "code",
   "execution_count": 28,
   "metadata": {},
   "outputs": [
    {
     "data": {
      "image/png": "[encoded data removed]",
      "text/plain": [
       "<matplotlib.figure.Figure at 0x26202ee5d68>"
      ]
     },
     "metadata": {},
     "output_type": "display_data"
    }
   ],
   "source": [
    "# summarize history for accuracy\n",
    "plt.plot(history.history['acc'])\n",
    "plt.title('model accuracy for base model')\n",
    "plt.ylabel('acuracy')\n",
    "plt.xlabel('epoch')\n",
    "plt.show()\n",
    "# plt.savefig('learning_process_accuracy')"
   ]
  },
  {
   "cell_type": "code",
   "execution_count": 29,
   "metadata": {},
   "outputs": [
    {
     "data": {
      "image/png": "[encoded data removed]",
      "text/plain": [
       "<matplotlib.figure.Figure at 0x26202edbda0>"
      ]
     },
     "metadata": {},
     "output_type": "display_data"
    }
   ],
   "source": [
    "# summarize history for loss\n",
    "plt.plot(history.history['loss'])\n",
    "plt.title('model loss for base model')\n",
    "plt.ylabel('loss')\n",
    "plt.xlabel('epoch')\n",
    "plt.show()\n",
    "# plt.savefig('learning_process_loss')"
   ]
  },
  {
   "cell_type": "markdown",
   "metadata": {},
   "source": [
    "## Test the model on the testSet"
   ]
  },
  {
   "cell_type": "code",
   "execution_count": 30,
   "metadata": {
    "scrolled": true
   },
   "outputs": [
    {
     "name": "stdout",
     "output_type": "stream",
     "text": [
      "1901/1901 [==============================] - 24s 13ms/step\n",
      "Loss = 2.3062188120530442\n",
      "Test Accuracy = 0.8569174119198341\n"
     ]
    }
   ],
   "source": [
    "#model.evaluate(x = ..., y = ...)\n",
    "preds = model.evaluate(x = X_test, y = Y_test)\n",
    "\n",
    "print (\"Loss = \" + str(preds[0]))\n",
    "print (\"Test Accuracy = \" + str(preds[1]))"
   ]
  },
  {
   "cell_type": "code",
   "execution_count": null,
   "metadata": {
    "collapsed": true
   },
   "outputs": [],
   "source": [
    "# creates an HDF5 file with model parameters for later use\n",
    "model.save('best_wineModel_1119_255_2Layer.h5')  "
   ]
  },
  {
   "cell_type": "markdown",
   "metadata": {},
   "source": [
    "### predict class of  image that the algorithm has never seen before"
   ]
  },
  {
   "cell_type": "code",
   "execution_count": null,
   "metadata": {
    "collapsed": true
   },
   "outputs": [],
   "source": [
    "# returns a compiled model\n",
    "model = load_model('best_wineModel_1119_255_2Layer.h5')"
   ]
  },
  {
   "cell_type": "code",
   "execution_count": null,
   "metadata": {
    "collapsed": true,
    "scrolled": false
   },
   "outputs": [],
   "source": [
    "#img_path = 'C:/Users/JansPC/Dropbox/9. Semester/Weinseminar/Coursera/wineModel/datasets/test1/1019.jpg'\n",
    "pics = [1, 2, 3, 4, 5, 6, 7, 9, 10]\n",
    "\n",
    "for pic in pics:\n",
    "    fig=plt.figure(figsize=(20,5))\n",
    "\n",
    "    #Create one or more subplots using add_subplot, because you can't create blank figure\n",
    "    fig.add_subplot(222)\n",
    "    img_path = 'C:/Users/JansPC/AnacondaProjects/Weinseminar/wineModel/first_prototype/test/Untitled ' + str(pic) + '.png'\n",
    "    img = image.load_img(img_path, target_size=(112, 112))\n",
    "    x = image.img_to_array(img)\n",
    "    x = np.expand_dims(x, axis=0)\n",
    "    x = preprocess_input(x)\n",
    "    print (x.shape)\n",
    "    #plt.show()\n",
    "    print('The model predicts: ' +  str(model.predict(x)))\n",
    "    imshow(img)"
   ]
  }
 ],
 "metadata": {
  "kernelspec": {
   "display_name": "Python 3",
   "language": "python",
   "name": "python3"
  },
  "language_info": {
   "codemirror_mode": {
    "name": "ipython",
    "version": 3
   },
   "file_extension": ".py",
   "mimetype": "text/x-python",
   "name": "python",
   "nbconvert_exporter": "python",
   "pygments_lexer": "ipython3",
   "version": "3.5.4"
  }
 },
 "nbformat": 4,
 "nbformat_minor": 2
}
